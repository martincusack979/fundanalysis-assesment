{
 "cells": [
  {
   "cell_type": "markdown",
   "id": "2cab967c",
   "metadata": {},
   "source": [
    "# Normal Distribution\n",
    "\n",
    "***\n"
   ]
  },
  {
   "cell_type": "markdown",
   "id": "c918763e",
   "metadata": {},
   "source": [
    "### Introduction"
   ]
  },
  {
   "cell_type": "markdown",
   "id": "8f36fd0a",
   "metadata": {},
   "source": [
    "The normal distibution is one of the most important and commonly-encountered distributions in the field of data science.\n",
    "\n",
    "The Normal, or Gaussian Distribution, is named after the German mathematician Carl Friedrich Gauss, who along with \n",
    "\n",
    "The probability density function is summed up by the below mathematical equation:\n",
    "\n",
    "\n"
   ]
  },
  {
   "cell_type": "code",
   "execution_count": 10,
   "id": "632dbd22",
   "metadata": {},
   "outputs": [],
   "source": [
    "import numpy as np\n",
    "import matplotlib.pyplot as plt\n",
    "import pandas as pd\n",
    "import seaborn as sns"
   ]
  },
  {
   "cell_type": "code",
   "execution_count": 9,
   "id": "e5ef49ed",
   "metadata": {},
   "outputs": [
    {
     "data": {
      "text/plain": [
       "array([[-0.99638712, -0.41715012, -1.89888258,  0.33783659],\n",
       "       [ 1.83330827,  0.14525401,  0.67175978, -0.71920596],\n",
       "       [-0.98905546, -0.28682779, -0.0520392 ,  0.57520496],\n",
       "       [-0.48791268, -2.44127352,  0.8950085 , -0.5433758 ]])"
      ]
     },
     "execution_count": 9,
     "metadata": {},
     "output_type": "execute_result"
    }
   ],
   "source": [
    "# generate a random normal distribution \n",
    "np.random.normal(size = (4,4))"
   ]
  },
  {
   "cell_type": "markdown",
   "id": "011920d5",
   "metadata": {},
   "source": [
    "### Histogram of Normal distribution"
   ]
  },
  {
   "cell_type": "markdown",
   "id": "21688d6c",
   "metadata": {},
   "source": [
    "In the next section I will create and analyse standard distribution taken from a real-world data set of world population rates."
   ]
  },
  {
   "cell_type": "code",
   "execution_count": 6,
   "id": "e73a60fe",
   "metadata": {},
   "outputs": [
    {
     "data": {
      "text/plain": [
       "Text(0, 0.5, 'Frequency')"
      ]
     },
     "execution_count": 6,
     "metadata": {},
     "output_type": "execute_result"
    },
    {
     "data": {
      "image/png": "[encoded data removed]",
      "text/plain": [
       "<Figure size 432x288 with 1 Axes>"
      ]
     },
     "metadata": {
      "needs_background": "light"
     },
     "output_type": "display_data"
    }
   ],
   "source": [
    "# create histogram of growth rate (world population) incorporating probability density function\n",
    "mu, sigma = 1.0095, 0.0133 # mean and standard deviation\n",
    "s = np.random.normal(mu, sigma, 1000)\n",
    "count, bins, ignored = plt.hist(s, 20, density=True)   \n",
    "plt.plot(bins, 1/(sigma * np.sqrt(2 * np.pi)) *   \n",
    "               np.exp( - (bins - mu)**2 / (2 * sigma**2) ),\n",
    "         linewidth=2, color='r')\n",
    "plt.title(\"Histogram of World growth rates\")\n",
    "plt.xlabel(\"Growth Rate\")\n",
    "plt.ylabel(\"Frequency\")"
   ]
  },
  {
   "cell_type": "markdown",
   "id": "310beed7",
   "metadata": {},
   "source": [
    "## References"
   ]
  },
  {
   "cell_type": "markdown",
   "id": "74798354",
   "metadata": {},
   "source": [
    "https://numpy.org/doc/stable/reference/random/generated/numpy.random.normal.html\n",
    "    \n",
    "https://www.w3schools.com/python/numpy/numpy_random_normal.asp\n",
    "\n",
    "https://en.wikipedia.org/wiki/Normal_distribution"
   ]
  },
  {
   "cell_type": "code",
   "execution_count": null,
   "id": "c6537805",
   "metadata": {},
   "outputs": [],
   "source": []
  }
 ],
 "metadata": {
  "kernelspec": {
   "display_name": "Python 3 (ipykernel)",
   "language": "python",
   "name": "python3"
  },
  "language_info": {
   "codemirror_mode": {
    "name": "ipython",
    "version": 3
   },
   "file_extension": ".py",
   "mimetype": "text/x-python",
   "name": "python",
   "nbconvert_exporter": "python",
   "pygments_lexer": "ipython3",
   "version": "3.9.12"
  }
 },
 "nbformat": 4,
 "nbformat_minor": 5
}
