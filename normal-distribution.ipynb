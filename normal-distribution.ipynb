{
 "cells": [
  {
   "cell_type": "markdown",
   "id": "2cab967c",
   "metadata": {},
   "source": [
    "# Normal Distribution\n",
    "\n",
    "***\n"
   ]
  },
  {
   "cell_type": "markdown",
   "id": "acf2c2f0",
   "metadata": {},
   "source": [
    "#### G00239124 Martin Cusack"
   ]
  },
  {
   "cell_type": "markdown",
   "id": "c918763e",
   "metadata": {},
   "source": [
    "### Introduction"
   ]
  },
  {
   "cell_type": "markdown",
   "id": "8f36fd0a",
   "metadata": {},
   "source": [
    "The Normal distibution is one of the most important and frequently-encountered probability distributions in the field of data science. In this notebook I will explore the nature and parameters of the Normal distribution and also create some visualisations to illustrate some of the facets of normally-distributed data."
   ]
  },
  {
   "cell_type": "markdown",
   "id": "afe1336b",
   "metadata": {},
   "source": [
    "#### The Normal (Gaussian) Distribution"
   ]
  },
  {
   "cell_type": "markdown",
   "id": "6a2845c0",
   "metadata": {},
   "source": [
    "The Normal Distribution is often refered to as the Gaussian or Laplace-Gauss distribution after the German mathematician Carl Friedrich Gauss and French polymath Pierre-Simon Laplace.  Since most of the values in a normally-distibuted set of data are grouped around the centre or median line, it is also often referred to as a \"bell curve\" because of it's distinctive symmetrical shape.\n",
    "\n",
    "The mean (μ) and standard deviation (σ) are what defines the shape of a normal distribution. "
   ]
  },
  {
   "cell_type": "markdown",
   "id": "9c1a7758",
   "metadata": {},
   "source": [
    "#### Probability density function"
   ]
  },
  {
   "attachments": {
    "func.png": {
     "image/png": "[encoded data removed]"
    }
   },
   "cell_type": "markdown",
   "id": "7f296605",
   "metadata": {},
   "source": [
    "![func.png](attachment:func.png)"
   ]
  },
  {
   "cell_type": "markdown",
   "id": "77042567",
   "metadata": {},
   "source": [
    "Probability density function (or PDF) describes the probability of a random variable falling within a particular range of values.  The PDF of the normal distribution is represented by the mathematical function in the above image, in which μ represents the mean and σ represents the standard deviation. The square of the standard deviation is called the \"variance\". As we can see from the function above, once we have the mean and standard deviation we can calculate the probability of any given value for x using this function."
   ]
  },
  {
   "cell_type": "markdown",
   "id": "5130ac2b",
   "metadata": {},
   "source": [
    "#### Visualising the Normal Distribution"
   ]
  },
  {
   "cell_type": "markdown",
   "id": "8d2e1064",
   "metadata": {},
   "source": [
    "Using numpy and matplotlib packages, we can create some simple visualistaions of the normal distribution."
   ]
  },
  {
   "cell_type": "code",
   "execution_count": 6,
   "id": "632dbd22",
   "metadata": {},
   "outputs": [],
   "source": [
    "import numpy as np\n",
    "import matplotlib.pyplot as plt\n",
    "import pandas as pd\n",
    "import seaborn as sns"
   ]
  },
  {
   "cell_type": "code",
   "execution_count": 7,
   "id": "e5ef49ed",
   "metadata": {},
   "outputs": [
    {
     "data": {
      "text/plain": [
       "array([[ 0.30156209, -2.04319548,  0.66357896, -1.5829133 ],\n",
       "       [ 0.80154359, -0.68226024, -0.41564897, -0.78310958],\n",
       "       [-0.32325938,  0.38430922, -0.00619258, -0.03723408],\n",
       "       [ 1.10158132, -0.41245264, -0.36111013, -0.82876408]])"
      ]
     },
     "execution_count": 7,
     "metadata": {},
     "output_type": "execute_result"
    }
   ],
   "source": [
    "# generate a random normal distribution \n",
    "np.random.normal(size = (4,4))"
   ]
  },
  {
   "cell_type": "markdown",
   "id": "011920d5",
   "metadata": {},
   "source": [
    "### A Real World Example of the Normal distribution"
   ]
  },
  {
   "cell_type": "markdown",
   "id": "21688d6c",
   "metadata": {},
   "source": [
    "In the following section I will look at an example of some normally-distributed data taken from a real-world data set of world population rates.  To do this I imported a CSV file containing information on population growth since 1970, with columns for Area, Population Density, Growth Rate etc.  To illustrate an example of normally-distributed data, I will focus on the data in the Growth Rate column."
   ]
  },
  {
   "cell_type": "code",
   "execution_count": 8,
   "id": "deb169c9",
   "metadata": {},
   "outputs": [],
   "source": [
    "# import CSV file into pandas dataframe\n",
    "df = pd.read_csv (r\"C:\\Users\\cusac\\OneDrive\\Desktop\\world_population.csv\")"
   ]
  },
  {
   "cell_type": "code",
   "execution_count": 9,
   "id": "bec08a52",
   "metadata": {},
   "outputs": [
    {
     "data": {
      "text/html": [
       "<div>\n",
       "<style scoped>\n",
       "    .dataframe tbody tr th:only-of-type {\n",
       "        vertical-align: middle;\n",
       "    }\n",
       "\n",
       "    .dataframe tbody tr th {\n",
       "        vertical-align: top;\n",
       "    }\n",
       "\n",
       "    .dataframe thead th {\n",
       "        text-align: right;\n",
       "    }\n",
       "</style>\n",
       "<table border=\"1\" class=\"dataframe\">\n",
       "  <thead>\n",
       "    <tr style=\"text-align: right;\">\n",
       "      <th></th>\n",
       "      <th>Rank</th>\n",
       "      <th>Country</th>\n",
       "      <th>Continent</th>\n",
       "      <th>2020 Population</th>\n",
       "      <th>2010 Population</th>\n",
       "      <th>2000 Population</th>\n",
       "      <th>1990 Population</th>\n",
       "      <th>1980 Population</th>\n",
       "      <th>1970 Population</th>\n",
       "      <th>Area (km²)</th>\n",
       "      <th>Density (per km²)</th>\n",
       "      <th>Growth Rate</th>\n",
       "      <th>World Population Percentage</th>\n",
       "    </tr>\n",
       "  </thead>\n",
       "  <tbody>\n",
       "    <tr>\n",
       "      <th>0</th>\n",
       "      <td>36</td>\n",
       "      <td>Afghanistan</td>\n",
       "      <td>Asia</td>\n",
       "      <td>38972230</td>\n",
       "      <td>28189672</td>\n",
       "      <td>19542982</td>\n",
       "      <td>10694796</td>\n",
       "      <td>12486631</td>\n",
       "      <td>10752971</td>\n",
       "      <td>652230</td>\n",
       "      <td>63.0587</td>\n",
       "      <td>1.0257</td>\n",
       "      <td>0.52</td>\n",
       "    </tr>\n",
       "    <tr>\n",
       "      <th>1</th>\n",
       "      <td>138</td>\n",
       "      <td>Albania</td>\n",
       "      <td>Europe</td>\n",
       "      <td>2866849</td>\n",
       "      <td>2913399</td>\n",
       "      <td>3182021</td>\n",
       "      <td>3295066</td>\n",
       "      <td>2941651</td>\n",
       "      <td>2324731</td>\n",
       "      <td>28748</td>\n",
       "      <td>98.8702</td>\n",
       "      <td>0.9957</td>\n",
       "      <td>0.04</td>\n",
       "    </tr>\n",
       "    <tr>\n",
       "      <th>2</th>\n",
       "      <td>34</td>\n",
       "      <td>Algeria</td>\n",
       "      <td>Africa</td>\n",
       "      <td>43451666</td>\n",
       "      <td>35856344</td>\n",
       "      <td>30774621</td>\n",
       "      <td>25518074</td>\n",
       "      <td>18739378</td>\n",
       "      <td>13795915</td>\n",
       "      <td>2381741</td>\n",
       "      <td>18.8531</td>\n",
       "      <td>1.0164</td>\n",
       "      <td>0.56</td>\n",
       "    </tr>\n",
       "    <tr>\n",
       "      <th>3</th>\n",
       "      <td>213</td>\n",
       "      <td>American Samoa</td>\n",
       "      <td>Oceania</td>\n",
       "      <td>46189</td>\n",
       "      <td>54849</td>\n",
       "      <td>58230</td>\n",
       "      <td>47818</td>\n",
       "      <td>32886</td>\n",
       "      <td>27075</td>\n",
       "      <td>199</td>\n",
       "      <td>222.4774</td>\n",
       "      <td>0.9831</td>\n",
       "      <td>0.00</td>\n",
       "    </tr>\n",
       "    <tr>\n",
       "      <th>4</th>\n",
       "      <td>203</td>\n",
       "      <td>Andorra</td>\n",
       "      <td>Europe</td>\n",
       "      <td>77700</td>\n",
       "      <td>71519</td>\n",
       "      <td>66097</td>\n",
       "      <td>53569</td>\n",
       "      <td>35611</td>\n",
       "      <td>19860</td>\n",
       "      <td>468</td>\n",
       "      <td>170.5641</td>\n",
       "      <td>1.0100</td>\n",
       "      <td>0.00</td>\n",
       "    </tr>\n",
       "    <tr>\n",
       "      <th>5</th>\n",
       "      <td>42</td>\n",
       "      <td>Angola</td>\n",
       "      <td>Africa</td>\n",
       "      <td>33428485</td>\n",
       "      <td>23364185</td>\n",
       "      <td>16394062</td>\n",
       "      <td>11828638</td>\n",
       "      <td>8330047</td>\n",
       "      <td>6029700</td>\n",
       "      <td>1246700</td>\n",
       "      <td>28.5466</td>\n",
       "      <td>1.0315</td>\n",
       "      <td>0.45</td>\n",
       "    </tr>\n",
       "    <tr>\n",
       "      <th>6</th>\n",
       "      <td>224</td>\n",
       "      <td>Anguilla</td>\n",
       "      <td>North America</td>\n",
       "      <td>15585</td>\n",
       "      <td>13172</td>\n",
       "      <td>11047</td>\n",
       "      <td>8316</td>\n",
       "      <td>6560</td>\n",
       "      <td>6283</td>\n",
       "      <td>91</td>\n",
       "      <td>174.2527</td>\n",
       "      <td>1.0066</td>\n",
       "      <td>0.00</td>\n",
       "    </tr>\n",
       "  </tbody>\n",
       "</table>\n",
       "</div>"
      ],
      "text/plain": [
       "   Rank         Country      Continent  2020 Population  2010 Population  \\\n",
       "0    36     Afghanistan           Asia         38972230         28189672   \n",
       "1   138         Albania         Europe          2866849          2913399   \n",
       "2    34         Algeria         Africa         43451666         35856344   \n",
       "3   213  American Samoa        Oceania            46189            54849   \n",
       "4   203         Andorra         Europe            77700            71519   \n",
       "5    42          Angola         Africa         33428485         23364185   \n",
       "6   224        Anguilla  North America            15585            13172   \n",
       "\n",
       "   2000 Population  1990 Population  1980 Population  1970 Population  \\\n",
       "0         19542982         10694796         12486631         10752971   \n",
       "1          3182021          3295066          2941651          2324731   \n",
       "2         30774621         25518074         18739378         13795915   \n",
       "3            58230            47818            32886            27075   \n",
       "4            66097            53569            35611            19860   \n",
       "5         16394062         11828638          8330047          6029700   \n",
       "6            11047             8316             6560             6283   \n",
       "\n",
       "   Area (km²)  Density (per km²)  Growth Rate  World Population Percentage  \n",
       "0      652230            63.0587       1.0257                         0.52  \n",
       "1       28748            98.8702       0.9957                         0.04  \n",
       "2     2381741            18.8531       1.0164                         0.56  \n",
       "3         199           222.4774       0.9831                         0.00  \n",
       "4         468           170.5641       1.0100                         0.00  \n",
       "5     1246700            28.5466       1.0315                         0.45  \n",
       "6          91           174.2527       1.0066                         0.00  "
      ]
     },
     "execution_count": 9,
     "metadata": {},
     "output_type": "execute_result"
    }
   ],
   "source": [
    "# print first 7 rows to get a sense of the data\n",
    "df.head(7)"
   ]
  },
  {
   "cell_type": "code",
   "execution_count": 7,
   "id": "62ad72d0",
   "metadata": {},
   "outputs": [
    {
     "data": {
      "text/plain": [
       "1.0095773504273502"
      ]
     },
     "execution_count": 7,
     "metadata": {},
     "output_type": "execute_result"
    }
   ],
   "source": [
    "# focusing on the data in the Growth Rate column: find mean growth rate\n",
    "df['Growth Rate'].mean()"
   ]
  },
  {
   "cell_type": "code",
   "execution_count": 8,
   "id": "7b550306",
   "metadata": {},
   "outputs": [
    {
     "data": {
      "text/plain": [
       "0.01338498453399876"
      ]
     },
     "execution_count": 8,
     "metadata": {},
     "output_type": "execute_result"
    }
   ],
   "source": [
    "# find standard deviation of Growth Rate\n",
    "df['Growth Rate'].std()"
   ]
  },
  {
   "cell_type": "code",
   "execution_count": 9,
   "id": "8f388b2f",
   "metadata": {},
   "outputs": [
    {
     "data": {
      "text/plain": [
       "0.912"
      ]
     },
     "execution_count": 9,
     "metadata": {},
     "output_type": "execute_result"
    }
   ],
   "source": [
    "# find min and max of Growth Rate: min\n",
    "df['Growth Rate'].min()"
   ]
  },
  {
   "cell_type": "code",
   "execution_count": 10,
   "id": "98f3f34a",
   "metadata": {},
   "outputs": [
    {
     "data": {
      "text/plain": [
       "1.0691"
      ]
     },
     "execution_count": 10,
     "metadata": {},
     "output_type": "execute_result"
    }
   ],
   "source": [
    "# max\n",
    "df['Growth Rate'].max()"
   ]
  },
  {
   "cell_type": "code",
   "execution_count": 6,
   "id": "e73a60fe",
   "metadata": {
    "scrolled": true
   },
   "outputs": [
    {
     "data": {
      "text/plain": [
       "Text(0, 0.5, 'Frequency')"
      ]
     },
     "execution_count": 6,
     "metadata": {},
     "output_type": "execute_result"
    },
    {
     "data": {
      "image/png": "[encoded data removed]",
      "text/plain": [
       "<Figure size 432x288 with 1 Axes>"
      ]
     },
     "metadata": {
      "needs_background": "light"
     },
     "output_type": "display_data"
    }
   ],
   "source": [
    "# create histogram of growth rate (world population), incorporating probability density function\n",
    "mean, std = 1.0095, 0.0133 # mean and standard deviation\n",
    "s = np.random.normal(mean, std, 1000)\n",
    "count, bins, ignored = plt.hist(s, 20, density=True)   \n",
    "plt.plot(bins, 1/(std * np.sqrt(2 * np.pi)) *   \n",
    "               np.exp( - (bins - mean)**2 / (2 * std**2) ),\n",
    "         linewidth=2, color='r')\n",
    "plt.title(\"Histogram of World growth rates\")\n",
    "plt.xlabel(\"Growth Rate\")\n",
    "plt.ylabel(\"Frequency\")"
   ]
  },
  {
   "cell_type": "markdown",
   "id": "ca8d6ddc",
   "metadata": {},
   "source": [
    "As we can see from the above histogram the result is a good example of a normal distribution, with most values clustered around the mean of 1.009. There are two outliers: the country with the lowest growth rate (Ukraine: 0.912) and the country with the highest growth rate (Moldova: 1.06)"
   ]
  },
  {
   "cell_type": "markdown",
   "id": "f62bda0d",
   "metadata": {},
   "source": [
    "### Conclusion"
   ]
  },
  {
   "cell_type": "markdown",
   "id": "310beed7",
   "metadata": {},
   "source": [
    "## References"
   ]
  },
  {
   "cell_type": "markdown",
   "id": "74798354",
   "metadata": {},
   "source": [
    "https://numpy.org/doc/stable/reference/random/generated/numpy.random.normal.html\n",
    "    \n",
    "https://www.w3schools.com/python/numpy/numpy_random_normal.asp\n",
    "\n",
    "https://www.w3schools.com/statistics/statistics_normal_distribution.php#:~:text=The%20normal%20distribution%20is%20described,median%20and%20mean%20are%20equal\n",
    "\n",
    "https://en.wikipedia.org/wiki/Normal_distribution"
   ]
  },
  {
   "cell_type": "code",
   "execution_count": null,
   "id": "c6537805",
   "metadata": {},
   "outputs": [],
   "source": []
  }
 ],
 "metadata": {
  "kernelspec": {
   "display_name": "Python 3 (ipykernel)",
   "language": "python",
   "name": "python3"
  },
  "language_info": {
   "codemirror_mode": {
    "name": "ipython",
    "version": 3
   },
   "file_extension": ".py",
   "mimetype": "text/x-python",
   "name": "python",
   "nbconvert_exporter": "python",
   "pygments_lexer": "ipython3",
   "version": "3.9.12"
  }
 },
 "nbformat": 4,
 "nbformat_minor": 5
}
