{
 "cells": [
  {
   "cell_type": "markdown",
   "id": "2cab967c",
   "metadata": {},
   "source": [
    "# Normal Distribution\n",
    "\n",
    "***\n"
   ]
  },
  {
   "cell_type": "markdown",
   "id": "c918763e",
   "metadata": {},
   "source": [
    "### Introduction"
   ]
  },
  {
   "cell_type": "markdown",
   "id": "8f36fd0a",
   "metadata": {},
   "source": [
    "In the following notebook, I will explain some of the key concepts around the normal or Gaussian distibution.\n"
   ]
  },
  {
   "cell_type": "code",
   "execution_count": 11,
   "id": "632dbd22",
   "metadata": {},
   "outputs": [],
   "source": [
    "import numpy as np\n",
    "import matplotlib.pyplot as plt\n",
    "import pandas as pd"
   ]
  },
  {
   "cell_type": "code",
   "execution_count": 2,
   "id": "e5ef49ed",
   "metadata": {},
   "outputs": [
    {
     "data": {
      "text/plain": [
       "-0.7792279028775012"
      ]
     },
     "execution_count": 2,
     "metadata": {},
     "output_type": "execute_result"
    }
   ],
   "source": [
    "# \n",
    "np.random.normal()"
   ]
  },
  {
   "cell_type": "markdown",
   "id": "011920d5",
   "metadata": {},
   "source": [
    "### Histogram of Normal distribution"
   ]
  },
  {
   "cell_type": "code",
   "execution_count": 22,
   "id": "4a333bd4",
   "metadata": {},
   "outputs": [
    {
     "data": {
      "image/png": "[encoded data removed]",
      "text/plain": [
       "<Figure size 432x288 with 1 Axes>"
      ]
     },
     "metadata": {
      "needs_background": "light"
     },
     "output_type": "display_data"
    }
   ],
   "source": [
    "# create histogram incorporating probability density function\n",
    "mu, sigma = 0.99, 0.04 # mean and standard deviation\n",
    "s = np.random.default_rng().normal(0.99, 0.04, 20000) # mean, standard deviation\n",
    "count, bins, ignored = plt.hist(s, 20, density=True)   \n",
    "plt.plot(bins, 1/(sigma * np.sqrt(2 * np.pi)) *           \n",
    "               np.exp( - (bins - mu)**2 / (2 * sigma**2) ),\n",
    "         linewidth=2, color='r')\n",
    "plt.title(\"Histogram\")\n",
    "plt.xlabel(\"Rate\")\n",
    "plt.ylabel(\"Frequency\")\n",
    "plt.show()"
   ]
  },
  {
   "cell_type": "markdown",
   "id": "310beed7",
   "metadata": {},
   "source": [
    "## References"
   ]
  },
  {
   "cell_type": "markdown",
   "id": "74798354",
   "metadata": {},
   "source": [
    "https://numpy.org/doc/stable/reference/random/generated/numpy.random.normal.html\n",
    "    \n",
    "  "
   ]
  }
 ],
 "metadata": {
  "kernelspec": {
   "display_name": "Python 3 (ipykernel)",
   "language": "python",
   "name": "python3"
  },
  "language_info": {
   "codemirror_mode": {
    "name": "ipython",
    "version": 3
   },
   "file_extension": ".py",
   "mimetype": "text/x-python",
   "name": "python",
   "nbconvert_exporter": "python",
   "pygments_lexer": "ipython3",
   "version": "3.9.12"
  }
 },
 "nbformat": 4,
 "nbformat_minor": 5
}
