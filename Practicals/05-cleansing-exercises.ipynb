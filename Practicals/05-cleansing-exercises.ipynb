{
 "cells": [
  {
   "cell_type": "markdown",
   "id": "8f268175",
   "metadata": {},
   "source": [
    "## Data Cleansing\n",
    "***"
   ]
  },
  {
   "cell_type": "code",
   "execution_count": 2,
   "id": "ecdd2012",
   "metadata": {},
   "outputs": [],
   "source": [
    "import re"
   ]
  },
  {
   "cell_type": "markdown",
   "id": "aede25b8",
   "metadata": {},
   "source": [
    "\\w = '[a-zA-Z0-9_]'\n",
    "\n",
    "\\W = '[^a-zA-Z0-9_]'"
   ]
  },
  {
   "cell_type": "code",
   "execution_count": 4,
   "id": "e574289e",
   "metadata": {},
   "outputs": [
    {
     "name": "stdout",
     "output_type": "stream",
     "text": [
      "['Words', ', ', 'words', ', ', 'words', '.', '']\n"
     ]
    }
   ],
   "source": [
    "# A string to be manipulated.\n",
    "original = 'Words, words, words.'\n",
    "\n",
    "# The pattern/regular expression to use on the above string.\n",
    "pattern = r'(\\W+)'\n",
    "\n",
    "# Splits a string into substrings using a regular expression.\n",
    "result = re.split(pattern, original)\n",
    "\n",
    "# Print the result.\n",
    "print(result)"
   ]
  },
  {
   "cell_type": "code",
   "execution_count": 5,
   "id": "37db453b",
   "metadata": {},
   "outputs": [
    {
     "data": {
      "text/plain": [
       "['Words', 'words, words.']"
      ]
     },
     "execution_count": 5,
     "metadata": {},
     "output_type": "execute_result"
    }
   ],
   "source": [
    "# \n",
    "re.split(r'\\W+', 'Words, words, words.', 1)"
   ]
  },
  {
   "cell_type": "code",
   "execution_count": 6,
   "id": "4a126eca",
   "metadata": {},
   "outputs": [
    {
     "data": {
      "text/plain": [
       "['0', '3', '9']"
      ]
     },
     "execution_count": 6,
     "metadata": {},
     "output_type": "execute_result"
    }
   ],
   "source": [
    "re.split('[a-f]+', '0a3B9', flags=re.IGNORECASE)"
   ]
  }
 ],
 "metadata": {
  "kernelspec": {
   "display_name": "Python 3 (ipykernel)",
   "language": "python",
   "name": "python3"
  },
  "language_info": {
   "codemirror_mode": {
    "name": "ipython",
    "version": 3
   },
   "file_extension": ".py",
   "mimetype": "text/x-python",
   "name": "python",
   "nbconvert_exporter": "python",
   "pygments_lexer": "ipython3",
   "version": "3.9.12"
  }
 },
 "nbformat": 4,
 "nbformat_minor": 5
}
