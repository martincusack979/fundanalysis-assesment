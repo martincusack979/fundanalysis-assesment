{
 "cells": [
  {
   "cell_type": "markdown",
   "id": "e382055b",
   "metadata": {},
   "source": [
    "# Information"
   ]
  },
  {
   "cell_type": "markdown",
   "id": "e07e9501",
   "metadata": {},
   "source": [
    "## Exercise 2\n",
    "\n",
    "Explain why the log of zero is undefined"
   ]
  },
  {
   "cell_type": "code",
   "execution_count": null,
   "id": "1cdf0453",
   "metadata": {},
   "outputs": [],
   "source": [
    "The log of zero is undefined because"
   ]
  }
 ],
 "metadata": {
  "kernelspec": {
   "display_name": "Python 3 (ipykernel)",
   "language": "python",
   "name": "python3"
  },
  "language_info": {
   "codemirror_mode": {
    "name": "ipython",
    "version": 3
   },
   "file_extension": ".py",
   "mimetype": "text/x-python",
   "name": "python",
   "nbconvert_exporter": "python",
   "pygments_lexer": "ipython3",
   "version": "3.9.12"
  }
 },
 "nbformat": 4,
 "nbformat_minor": 5
}
