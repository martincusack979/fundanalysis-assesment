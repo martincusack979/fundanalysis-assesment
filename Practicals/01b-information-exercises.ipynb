{
 "cells": [
  {
   "cell_type": "markdown",
   "id": "e382055b",
   "metadata": {},
   "source": [
    "# Information"
   ]
  },
  {
   "cell_type": "markdown",
   "id": "e07e9501",
   "metadata": {},
   "source": [
    "## Exercise 2\n",
    "\n",
    "#### Explain why the log of zero is undefined"
   ]
  },
  {
   "cell_type": "markdown",
   "id": "0d53e047",
   "metadata": {},
   "source": [
    "The log of zero is undefined because it is impossible to obtain a result of zero by raising any number to the power of any other number. \"You can never reach zero, you can only approach it using an infinitely large and negative power.\"\n",
    "\n",
    "    Reference: http://www.mclph.umn.edu/mathrefresh/logs3.html#:~:text=2.-,log%200%20is%20undefined.,infinitely%20large%20and%20negative%20power."
   ]
  }
 ],
 "metadata": {
  "kernelspec": {
   "display_name": "Python 3 (ipykernel)",
   "language": "python",
   "name": "python3"
  },
  "language_info": {
   "codemirror_mode": {
    "name": "ipython",
    "version": 3
   },
   "file_extension": ".py",
   "mimetype": "text/x-python",
   "name": "python",
   "nbconvert_exporter": "python",
   "pygments_lexer": "ipython3",
   "version": "3.9.12"
  }
 },
 "nbformat": 4,
 "nbformat_minor": 5
}
