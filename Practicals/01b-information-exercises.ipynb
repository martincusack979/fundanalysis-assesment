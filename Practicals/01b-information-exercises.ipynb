{
 "cells": [
  {
   "cell_type": "markdown",
   "id": "e382055b",
   "metadata": {},
   "source": [
    "# Information\n",
    "***"
   ]
  },
  {
   "cell_type": "markdown",
   "id": "e07e9501",
   "metadata": {},
   "source": [
    "## Exercise 2\n",
    "\n",
    "#### Explain why the log of zero is undefined"
   ]
  },
  {
   "cell_type": "code",
   "execution_count": 1,
   "id": "b7aff664",
   "metadata": {},
   "outputs": [
    {
     "name": "stdout",
     "output_type": "stream",
     "text": [
      "2.0794415416798357\n"
     ]
    }
   ],
   "source": [
    "# calculate log of 8\n",
    "import math\n",
    "print(math.log(8))"
   ]
  },
  {
   "cell_type": "code",
   "execution_count": 2,
   "id": "c7529b1b",
   "metadata": {},
   "outputs": [
    {
     "name": "stdout",
     "output_type": "stream",
     "text": [
      "2.4849066497880004\n"
     ]
    }
   ],
   "source": [
    "# calculate log of 12\n",
    "print(math.log(12))"
   ]
  },
  {
   "cell_type": "code",
   "execution_count": 3,
   "id": "33dd9708",
   "metadata": {},
   "outputs": [
    {
     "ename": "ValueError",
     "evalue": "math domain error",
     "output_type": "error",
     "traceback": [
      "\u001b[1;31m---------------------------------------------------------------------------\u001b[0m",
      "\u001b[1;31mValueError\u001b[0m                                Traceback (most recent call last)",
      "Input \u001b[1;32mIn [3]\u001b[0m, in \u001b[0;36m<cell line: 2>\u001b[1;34m()\u001b[0m\n\u001b[0;32m      1\u001b[0m \u001b[38;5;66;03m# calculate log of zero\u001b[39;00m\n\u001b[1;32m----> 2\u001b[0m \u001b[38;5;28mprint\u001b[39m(\u001b[43mmath\u001b[49m\u001b[38;5;241;43m.\u001b[39;49m\u001b[43mlog\u001b[49m\u001b[43m(\u001b[49m\u001b[38;5;241;43m0\u001b[39;49m\u001b[43m)\u001b[49m)\n",
      "\u001b[1;31mValueError\u001b[0m: math domain error"
     ]
    }
   ],
   "source": [
    "# calculate log of zero\n",
    "print(math.log(0))"
   ]
  },
  {
   "cell_type": "markdown",
   "id": "0d53e047",
   "metadata": {},
   "source": [
    "Why do we get an error message when we try to calculate the log of zero using Python?  The log of zero is undefined because it is impossible to obtain a result of zero by raising any number to the power of any other number. \"You can never reach zero, you can only approach it using an infinitely large and negative power.\"\n",
    "\n",
    "* Reference: https://math.stackexchange.com/questions/3444601/is-log-0-is-or-is-not-undefined"
   ]
  },
  {
   "cell_type": "markdown",
   "id": "886cbf34",
   "metadata": {},
   "source": [
    "This is only tangentially connected, but by coincidence I am currently reading a short story entitled \"Division by Zero\" by the American sci-fi author Ted Chiang which incorporates the unique properties of zero as a central element of the plot. The first paragraph of the story includes the following observation on the properties of zero: \"Dividing a number by zero doesn't produce an infinitely large number as an answer... however, multiplying infinity by zero produces only zero, not any other number. There is nothing which can be multiplied by zero to produce a non-zero result; therefore, the result of a division by zero is literally \"undefined\".\""
   ]
  },
  {
   "cell_type": "markdown",
   "id": "d956a28f",
   "metadata": {},
   "source": [
    "## End\n",
    "***"
   ]
  }
 ],
 "metadata": {
  "kernelspec": {
   "display_name": "Python 3 (ipykernel)",
   "language": "python",
   "name": "python3"
  },
  "language_info": {
   "codemirror_mode": {
    "name": "ipython",
    "version": 3
   },
   "file_extension": ".py",
   "mimetype": "text/x-python",
   "name": "python",
   "nbconvert_exporter": "python",
   "pygments_lexer": "ipython3",
   "version": "3.9.12"
  }
 },
 "nbformat": 4,
 "nbformat_minor": 5
}
