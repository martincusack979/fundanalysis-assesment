{
 "cells": [
  {
   "cell_type": "markdown",
   "id": "2904fe90",
   "metadata": {},
   "source": [
    "## Outliers\n",
    "***"
   ]
  },
  {
   "cell_type": "code",
   "execution_count": 1,
   "id": "626bfd15",
   "metadata": {},
   "outputs": [],
   "source": [
    "# Numerical arrays.\n",
    "import numpy as np\n",
    "\n",
    "# Plotting.\n",
    "import matplotlib.pyplot as plt\n",
    "\n",
    "# Statistics.\n",
    "import scipy.stats as ss"
   ]
  },
  {
   "cell_type": "markdown",
   "id": "874ab552",
   "metadata": {},
   "source": [
    "### Percentiles"
   ]
  },
  {
   "cell_type": "code",
   "execution_count": 4,
   "id": "73f14ce4",
   "metadata": {},
   "outputs": [
    {
     "data": {
      "text/plain": [
       "0.6781965040078219"
      ]
     },
     "execution_count": 4,
     "metadata": {},
     "output_type": "execute_result"
    }
   ],
   "source": [
    "# Picking random values on the curve.\n",
    "np.random.normal(0.0, 1.0)"
   ]
  },
  {
   "cell_type": "code",
   "execution_count": 5,
   "id": "34400831",
   "metadata": {},
   "outputs": [
    {
     "data": {
      "text/plain": [
       "0.9999999999974403"
      ]
     },
     "execution_count": 5,
     "metadata": {},
     "output_type": "execute_result"
    }
   ],
   "source": [
    "# The probability of generating a value less than 3.0 and greater than -3.0.\n",
    "ss.norm().cdf(7.0) - ss.norm().cdf(-7.0)"
   ]
  },
  {
   "cell_type": "code",
   "execution_count": 6,
   "id": "08883e5d",
   "metadata": {},
   "outputs": [
    {
     "data": {
      "text/plain": [
       "0.6744897501960817"
      ]
     },
     "execution_count": 6,
     "metadata": {},
     "output_type": "execute_result"
    }
   ],
   "source": [
    "# quartile\n",
    "ss.norm().ppf(0.75)"
   ]
  },
  {
   "cell_type": "code",
   "execution_count": 7,
   "id": "d060c8b7",
   "metadata": {},
   "outputs": [
    {
     "data": {
      "text/plain": [
       "-0.6744897501960817"
      ]
     },
     "execution_count": 7,
     "metadata": {},
     "output_type": "execute_result"
    }
   ],
   "source": [
    "# quartile\n",
    "ss.norm().ppf(0.25)"
   ]
  },
  {
   "cell_type": "markdown",
   "id": "1124c322",
   "metadata": {},
   "source": [
    "### Box plots"
   ]
  },
  {
   "cell_type": "code",
   "execution_count": 8,
   "id": "afdd0cc9",
   "metadata": {
    "scrolled": true
   },
   "outputs": [
    {
     "data": {
      "text/plain": [
       "array([[1.00e+00, 1.00e+00, 8.50e+02],\n",
       "       [1.00e+00, 2.00e+00, 7.40e+02],\n",
       "       [1.00e+00, 3.00e+00, 9.00e+02],\n",
       "       [1.00e+00, 4.00e+00, 1.07e+03],\n",
       "       [1.00e+00, 5.00e+00, 9.30e+02],\n",
       "       [1.00e+00, 6.00e+00, 8.50e+02],\n",
       "       [1.00e+00, 7.00e+00, 9.50e+02],\n",
       "       [1.00e+00, 8.00e+00, 9.80e+02],\n",
       "       [1.00e+00, 9.00e+00, 9.80e+02],\n",
       "       [1.00e+00, 1.00e+01, 8.80e+02],\n",
       "       [1.00e+00, 1.10e+01, 1.00e+03],\n",
       "       [1.00e+00, 1.20e+01, 9.80e+02],\n",
       "       [1.00e+00, 1.30e+01, 9.30e+02],\n",
       "       [1.00e+00, 1.40e+01, 6.50e+02],\n",
       "       [1.00e+00, 1.50e+01, 7.60e+02],\n",
       "       [1.00e+00, 1.60e+01, 8.10e+02],\n",
       "       [1.00e+00, 1.70e+01, 1.00e+03],\n",
       "       [1.00e+00, 1.80e+01, 1.00e+03],\n",
       "       [1.00e+00, 1.90e+01, 9.60e+02],\n",
       "       [1.00e+00, 2.00e+01, 9.60e+02],\n",
       "       [2.00e+00, 1.00e+00, 9.60e+02],\n",
       "       [2.00e+00, 2.00e+00, 9.40e+02],\n",
       "       [2.00e+00, 3.00e+00, 9.60e+02],\n",
       "       [2.00e+00, 4.00e+00, 9.40e+02],\n",
       "       [2.00e+00, 5.00e+00, 8.80e+02],\n",
       "       [2.00e+00, 6.00e+00, 8.00e+02],\n",
       "       [2.00e+00, 7.00e+00, 8.50e+02],\n",
       "       [2.00e+00, 8.00e+00, 8.80e+02],\n",
       "       [2.00e+00, 9.00e+00, 9.00e+02],\n",
       "       [2.00e+00, 1.00e+01, 8.40e+02],\n",
       "       [2.00e+00, 1.10e+01, 8.30e+02],\n",
       "       [2.00e+00, 1.20e+01, 7.90e+02],\n",
       "       [2.00e+00, 1.30e+01, 8.10e+02],\n",
       "       [2.00e+00, 1.40e+01, 8.80e+02],\n",
       "       [2.00e+00, 1.50e+01, 8.80e+02],\n",
       "       [2.00e+00, 1.60e+01, 8.30e+02],\n",
       "       [2.00e+00, 1.70e+01, 8.00e+02],\n",
       "       [2.00e+00, 1.80e+01, 7.90e+02],\n",
       "       [2.00e+00, 1.90e+01, 7.60e+02],\n",
       "       [2.00e+00, 2.00e+01, 8.00e+02],\n",
       "       [3.00e+00, 1.00e+00, 8.80e+02],\n",
       "       [3.00e+00, 2.00e+00, 8.80e+02],\n",
       "       [3.00e+00, 3.00e+00, 8.80e+02],\n",
       "       [3.00e+00, 4.00e+00, 8.60e+02],\n",
       "       [3.00e+00, 5.00e+00, 7.20e+02],\n",
       "       [3.00e+00, 6.00e+00, 7.20e+02],\n",
       "       [3.00e+00, 7.00e+00, 6.20e+02],\n",
       "       [3.00e+00, 8.00e+00, 8.60e+02],\n",
       "       [3.00e+00, 9.00e+00, 9.70e+02],\n",
       "       [3.00e+00, 1.00e+01, 9.50e+02],\n",
       "       [3.00e+00, 1.10e+01, 8.80e+02],\n",
       "       [3.00e+00, 1.20e+01, 9.10e+02],\n",
       "       [3.00e+00, 1.30e+01, 8.50e+02],\n",
       "       [3.00e+00, 1.40e+01, 8.70e+02],\n",
       "       [3.00e+00, 1.50e+01, 8.40e+02],\n",
       "       [3.00e+00, 1.60e+01, 8.40e+02],\n",
       "       [3.00e+00, 1.70e+01, 8.50e+02],\n",
       "       [3.00e+00, 1.80e+01, 8.40e+02],\n",
       "       [3.00e+00, 1.90e+01, 8.40e+02],\n",
       "       [3.00e+00, 2.00e+01, 8.40e+02],\n",
       "       [4.00e+00, 1.00e+00, 8.90e+02],\n",
       "       [4.00e+00, 2.00e+00, 8.10e+02],\n",
       "       [4.00e+00, 3.00e+00, 8.10e+02],\n",
       "       [4.00e+00, 4.00e+00, 8.20e+02],\n",
       "       [4.00e+00, 5.00e+00, 8.00e+02],\n",
       "       [4.00e+00, 6.00e+00, 7.70e+02],\n",
       "       [4.00e+00, 7.00e+00, 7.60e+02],\n",
       "       [4.00e+00, 8.00e+00, 7.40e+02],\n",
       "       [4.00e+00, 9.00e+00, 7.50e+02],\n",
       "       [4.00e+00, 1.00e+01, 7.60e+02],\n",
       "       [4.00e+00, 1.10e+01, 9.10e+02],\n",
       "       [4.00e+00, 1.20e+01, 9.20e+02],\n",
       "       [4.00e+00, 1.30e+01, 8.90e+02],\n",
       "       [4.00e+00, 1.40e+01, 8.60e+02],\n",
       "       [4.00e+00, 1.50e+01, 8.80e+02],\n",
       "       [4.00e+00, 1.60e+01, 7.20e+02],\n",
       "       [4.00e+00, 1.70e+01, 8.40e+02],\n",
       "       [4.00e+00, 1.80e+01, 8.50e+02],\n",
       "       [4.00e+00, 1.90e+01, 8.50e+02],\n",
       "       [4.00e+00, 2.00e+01, 7.80e+02],\n",
       "       [5.00e+00, 1.00e+00, 8.90e+02],\n",
       "       [5.00e+00, 2.00e+00, 8.40e+02],\n",
       "       [5.00e+00, 3.00e+00, 7.80e+02],\n",
       "       [5.00e+00, 4.00e+00, 8.10e+02],\n",
       "       [5.00e+00, 5.00e+00, 7.60e+02],\n",
       "       [5.00e+00, 6.00e+00, 8.10e+02],\n",
       "       [5.00e+00, 7.00e+00, 7.90e+02],\n",
       "       [5.00e+00, 8.00e+00, 8.10e+02],\n",
       "       [5.00e+00, 9.00e+00, 8.20e+02],\n",
       "       [5.00e+00, 1.00e+01, 8.50e+02],\n",
       "       [5.00e+00, 1.10e+01, 8.70e+02],\n",
       "       [5.00e+00, 1.20e+01, 8.70e+02],\n",
       "       [5.00e+00, 1.30e+01, 8.10e+02],\n",
       "       [5.00e+00, 1.40e+01, 7.40e+02],\n",
       "       [5.00e+00, 1.50e+01, 8.10e+02],\n",
       "       [5.00e+00, 1.60e+01, 9.40e+02],\n",
       "       [5.00e+00, 1.70e+01, 9.50e+02],\n",
       "       [5.00e+00, 1.80e+01, 8.00e+02],\n",
       "       [5.00e+00, 1.90e+01, 8.10e+02],\n",
       "       [5.00e+00, 2.00e+01, 8.70e+02]])"
      ]
     },
     "execution_count": 8,
     "metadata": {},
     "output_type": "execute_result"
    }
   ],
   "source": [
    "data = np.genfromtxt('data/morley.csv', skip_header=1, delimiter=',', deletechars='\"')\n",
    "data = data[:,1:]\n",
    "data"
   ]
  },
  {
   "cell_type": "code",
   "execution_count": 21,
   "id": "7460108c",
   "metadata": {},
   "outputs": [
    {
     "data": {
      "text/plain": [
       "array([ 850.,  740.,  900., 1070.,  930.,  850.,  950.,  980.,  980.,\n",
       "        880., 1000.,  980.,  930.,  650.,  760.,  810., 1000., 1000.,\n",
       "        960.,  960.])"
      ]
     },
     "execution_count": 21,
     "metadata": {},
     "output_type": "execute_result"
    }
   ],
   "source": [
    "# Select the data for the first experiment.\n",
    "exper_1 = data[:20, 2]\n",
    "\n",
    "exper_1"
   ]
  },
  {
   "cell_type": "code",
   "execution_count": 24,
   "id": "fcca807d",
   "metadata": {},
   "outputs": [
    {
     "data": {
      "text/plain": [
       "980.0"
      ]
     },
     "execution_count": 24,
     "metadata": {},
     "output_type": "execute_result"
    }
   ],
   "source": [
    "np.percentile(exper_1, 75)"
   ]
  },
  {
   "cell_type": "code",
   "execution_count": 19,
   "id": "62583b49",
   "metadata": {},
   "outputs": [
    {
     "name": "stdout",
     "output_type": "stream",
     "text": [
      "{'whiskers': [<matplotlib.lines.Line2D object at 0x000001B86298CAF0>, <matplotlib.lines.Line2D object at 0x000001B86298CD90>], 'caps': [<matplotlib.lines.Line2D object at 0x000001B86299A0A0>, <matplotlib.lines.Line2D object at 0x000001B86299A370>], 'boxes': [<matplotlib.lines.Line2D object at 0x000001B86298C820>], 'medians': [<matplotlib.lines.Line2D object at 0x000001B86299A640>], 'fliers': [<matplotlib.lines.Line2D object at 0x000001B86299A910>], 'means': []}\n"
     ]
    },
    {
     "data": {
      "image/png": "[encoded data removed]",
      "text/plain": [
       "<Figure size 432x288 with 1 Axes>"
      ]
     },
     "metadata": {
      "needs_background": "light"
     },
     "output_type": "display_data"
    }
   ],
   "source": [
    "# create a figure\n",
    "fig, ax = plt.subplots()\n",
    "# add the bixplot\n",
    "print(ax.boxplot(exper_1))\n"
   ]
  },
  {
   "cell_type": "markdown",
   "id": "8d37abda",
   "metadata": {},
   "source": [
    "### Exercise 1\n",
    "***"
   ]
  },
  {
   "cell_type": "markdown",
   "id": "8855fb61",
   "metadata": {},
   "source": [
    "#### *Create box plots on a single set of axes for all five experiments in the Morley data set.*"
   ]
  },
  {
   "cell_type": "code",
   "execution_count": 9,
   "id": "33bc7610",
   "metadata": {},
   "outputs": [
    {
     "data": {
      "text/plain": [
       "array([[ 850.,  960.,  880.,  890.,  890.],\n",
       "       [ 740.,  940.,  880.,  810.,  840.],\n",
       "       [ 900.,  960.,  880.,  810.,  780.],\n",
       "       [1070.,  940.,  860.,  820.,  810.],\n",
       "       [ 930.,  880.,  720.,  800.,  760.],\n",
       "       [ 850.,  800.,  720.,  770.,  810.],\n",
       "       [ 950.,  850.,  620.,  760.,  790.],\n",
       "       [ 980.,  880.,  860.,  740.,  810.],\n",
       "       [ 980.,  900.,  970.,  750.,  820.],\n",
       "       [ 880.,  840.,  950.,  760.,  850.],\n",
       "       [1000.,  830.,  880.,  910.,  870.],\n",
       "       [ 980.,  790.,  910.,  920.,  870.],\n",
       "       [ 930.,  810.,  850.,  890.,  810.],\n",
       "       [ 650.,  880.,  870.,  860.,  740.],\n",
       "       [ 760.,  880.,  840.,  880.,  810.],\n",
       "       [ 810.,  830.,  840.,  720.,  940.],\n",
       "       [1000.,  800.,  850.,  840.,  950.],\n",
       "       [1000.,  790.,  840.,  850.,  800.],\n",
       "       [ 960.,  760.,  840.,  850.,  810.],\n",
       "       [ 960.,  800.,  840.,  780.,  870.]])"
      ]
     },
     "execution_count": 9,
     "metadata": {},
     "output_type": "execute_result"
    }
   ],
   "source": [
    "# Display the five experiments in different columns\n",
    "data_1 = data[:,2].reshape(5, 20).T\n",
    "data_1"
   ]
  },
  {
   "cell_type": "code",
   "execution_count": 10,
   "id": "87485e8b",
   "metadata": {
    "scrolled": true
   },
   "outputs": [
    {
     "name": "stdout",
     "output_type": "stream",
     "text": [
      "{'whiskers': [<matplotlib.lines.Line2D object at 0x000001B8604BDDC0>, <matplotlib.lines.Line2D object at 0x000001B8604DD0D0>, <matplotlib.lines.Line2D object at 0x000001B8604E8220>, <matplotlib.lines.Line2D object at 0x000001B8604E84F0>, <matplotlib.lines.Line2D object at 0x000001B8604F5610>, <matplotlib.lines.Line2D object at 0x000001B8604F58E0>, <matplotlib.lines.Line2D object at 0x000001B860504A00>, <matplotlib.lines.Line2D object at 0x000001B860504CD0>, <matplotlib.lines.Line2D object at 0x000001B86050FDF0>, <matplotlib.lines.Line2D object at 0x000001B86051E100>], 'caps': [<matplotlib.lines.Line2D object at 0x000001B8604DD460>, <matplotlib.lines.Line2D object at 0x000001B8604DD670>, <matplotlib.lines.Line2D object at 0x000001B8604E87C0>, <matplotlib.lines.Line2D object at 0x000001B8604E8A90>, <matplotlib.lines.Line2D object at 0x000001B8604F5BB0>, <matplotlib.lines.Line2D object at 0x000001B8604F5E80>, <matplotlib.lines.Line2D object at 0x000001B860504FA0>, <matplotlib.lines.Line2D object at 0x000001B86050F2B0>, <matplotlib.lines.Line2D object at 0x000001B86051E3D0>, <matplotlib.lines.Line2D object at 0x000001B86051E6A0>], 'boxes': [<matplotlib.lines.Line2D object at 0x000001B8604BDAF0>, <matplotlib.lines.Line2D object at 0x000001B8604DDF10>, <matplotlib.lines.Line2D object at 0x000001B8604F5340>, <matplotlib.lines.Line2D object at 0x000001B860504730>, <matplotlib.lines.Line2D object at 0x000001B86050FB20>], 'medians': [<matplotlib.lines.Line2D object at 0x000001B8604DD940>, <matplotlib.lines.Line2D object at 0x000001B8604E8D60>, <matplotlib.lines.Line2D object at 0x000001B860504190>, <matplotlib.lines.Line2D object at 0x000001B86050F580>, <matplotlib.lines.Line2D object at 0x000001B86051E970>], 'fliers': [<matplotlib.lines.Line2D object at 0x000001B8604DDC10>, <matplotlib.lines.Line2D object at 0x000001B8604F5070>, <matplotlib.lines.Line2D object at 0x000001B860504460>, <matplotlib.lines.Line2D object at 0x000001B86050F850>, <matplotlib.lines.Line2D object at 0x000001B86051EC40>], 'means': []}\n"
     ]
    },
    {
     "data": {
      "image/png": "[encoded data removed]",
      "text/plain": [
       "<Figure size 432x288 with 1 Axes>"
      ]
     },
     "metadata": {
      "needs_background": "light"
     },
     "output_type": "display_data"
    }
   ],
   "source": [
    "# Create a figure.\n",
    "fig, ax = plt.subplots()\n",
    "\n",
    "ax.set_title('Morley Experiment')\n",
    "ax.set_xlabel('Experiment No.')\n",
    "ax.set_ylabel('Speed of Light (km/s minus 299,000)')\n",
    "\n",
    "print(ax.boxplot(data_1))"
   ]
  },
  {
   "cell_type": "markdown",
   "id": "b04d13f5",
   "metadata": {},
   "source": [
    "#### *Reference:*\n",
    "https://www.kaggle.com/code/ukveteran/pystarter-jma-morley/data"
   ]
  },
  {
   "cell_type": "markdown",
   "id": "55bba5b7",
   "metadata": {},
   "source": [
    "### Exercise 2"
   ]
  },
  {
   "cell_type": "markdown",
   "id": "0ef7fa53",
   "metadata": {},
   "source": [
    "#### *Create box plots for all of the numerical variables in Fisher's Iris Data Set.*"
   ]
  },
  {
   "cell_type": "code",
   "execution_count": 11,
   "id": "3cf0c731",
   "metadata": {},
   "outputs": [
    {
     "data": {
      "text/html": [
       "<div>\n",
       "<style scoped>\n",
       "    .dataframe tbody tr th:only-of-type {\n",
       "        vertical-align: middle;\n",
       "    }\n",
       "\n",
       "    .dataframe tbody tr th {\n",
       "        vertical-align: top;\n",
       "    }\n",
       "\n",
       "    .dataframe thead th {\n",
       "        text-align: right;\n",
       "    }\n",
       "</style>\n",
       "<table border=\"1\" class=\"dataframe\">\n",
       "  <thead>\n",
       "    <tr style=\"text-align: right;\">\n",
       "      <th></th>\n",
       "      <th>sepal_length</th>\n",
       "      <th>sepal_width</th>\n",
       "      <th>petal_length</th>\n",
       "      <th>petal_width</th>\n",
       "      <th>species</th>\n",
       "    </tr>\n",
       "  </thead>\n",
       "  <tbody>\n",
       "    <tr>\n",
       "      <th>0</th>\n",
       "      <td>5.1</td>\n",
       "      <td>3.5</td>\n",
       "      <td>1.4</td>\n",
       "      <td>0.2</td>\n",
       "      <td>Iris-setosa</td>\n",
       "    </tr>\n",
       "    <tr>\n",
       "      <th>1</th>\n",
       "      <td>4.9</td>\n",
       "      <td>3.0</td>\n",
       "      <td>1.4</td>\n",
       "      <td>0.2</td>\n",
       "      <td>Iris-setosa</td>\n",
       "    </tr>\n",
       "    <tr>\n",
       "      <th>2</th>\n",
       "      <td>4.7</td>\n",
       "      <td>3.2</td>\n",
       "      <td>1.3</td>\n",
       "      <td>0.2</td>\n",
       "      <td>Iris-setosa</td>\n",
       "    </tr>\n",
       "    <tr>\n",
       "      <th>3</th>\n",
       "      <td>4.6</td>\n",
       "      <td>3.1</td>\n",
       "      <td>1.5</td>\n",
       "      <td>0.2</td>\n",
       "      <td>Iris-setosa</td>\n",
       "    </tr>\n",
       "    <tr>\n",
       "      <th>4</th>\n",
       "      <td>5.0</td>\n",
       "      <td>3.6</td>\n",
       "      <td>1.4</td>\n",
       "      <td>0.2</td>\n",
       "      <td>Iris-setosa</td>\n",
       "    </tr>\n",
       "    <tr>\n",
       "      <th>...</th>\n",
       "      <td>...</td>\n",
       "      <td>...</td>\n",
       "      <td>...</td>\n",
       "      <td>...</td>\n",
       "      <td>...</td>\n",
       "    </tr>\n",
       "    <tr>\n",
       "      <th>145</th>\n",
       "      <td>6.7</td>\n",
       "      <td>3.0</td>\n",
       "      <td>5.2</td>\n",
       "      <td>2.3</td>\n",
       "      <td>Iris-virginica</td>\n",
       "    </tr>\n",
       "    <tr>\n",
       "      <th>146</th>\n",
       "      <td>6.3</td>\n",
       "      <td>2.5</td>\n",
       "      <td>5.0</td>\n",
       "      <td>1.9</td>\n",
       "      <td>Iris-virginica</td>\n",
       "    </tr>\n",
       "    <tr>\n",
       "      <th>147</th>\n",
       "      <td>6.5</td>\n",
       "      <td>3.0</td>\n",
       "      <td>5.2</td>\n",
       "      <td>2.0</td>\n",
       "      <td>Iris-virginica</td>\n",
       "    </tr>\n",
       "    <tr>\n",
       "      <th>148</th>\n",
       "      <td>6.2</td>\n",
       "      <td>3.4</td>\n",
       "      <td>5.4</td>\n",
       "      <td>2.3</td>\n",
       "      <td>Iris-virginica</td>\n",
       "    </tr>\n",
       "    <tr>\n",
       "      <th>149</th>\n",
       "      <td>5.9</td>\n",
       "      <td>3.0</td>\n",
       "      <td>5.1</td>\n",
       "      <td>1.8</td>\n",
       "      <td>Iris-virginica</td>\n",
       "    </tr>\n",
       "  </tbody>\n",
       "</table>\n",
       "<p>150 rows × 5 columns</p>\n",
       "</div>"
      ],
      "text/plain": [
       "     sepal_length  sepal_width  petal_length  petal_width         species\n",
       "0             5.1          3.5           1.4          0.2     Iris-setosa\n",
       "1             4.9          3.0           1.4          0.2     Iris-setosa\n",
       "2             4.7          3.2           1.3          0.2     Iris-setosa\n",
       "3             4.6          3.1           1.5          0.2     Iris-setosa\n",
       "4             5.0          3.6           1.4          0.2     Iris-setosa\n",
       "..            ...          ...           ...          ...             ...\n",
       "145           6.7          3.0           5.2          2.3  Iris-virginica\n",
       "146           6.3          2.5           5.0          1.9  Iris-virginica\n",
       "147           6.5          3.0           5.2          2.0  Iris-virginica\n",
       "148           6.2          3.4           5.4          2.3  Iris-virginica\n",
       "149           5.9          3.0           5.1          1.8  Iris-virginica\n",
       "\n",
       "[150 rows x 5 columns]"
      ]
     },
     "execution_count": 11,
     "metadata": {},
     "output_type": "execute_result"
    }
   ],
   "source": [
    "# import data into pandas data frame\n",
    "import pandas as pd                                                                 \n",
    "iris = pd.read_csv('data/iris.csv')   \n",
    "iris"
   ]
  },
  {
   "cell_type": "code",
   "execution_count": 12,
   "id": "e50fe95d",
   "metadata": {},
   "outputs": [
    {
     "data": {
      "image/png": "[encoded data removed]",
      "text/plain": [
       "<Figure size 432x288 with 1 Axes>"
      ]
     },
     "metadata": {
      "needs_background": "light"
     },
     "output_type": "display_data"
    }
   ],
   "source": [
    "# use seaborn to create box plot displaying distribution of Sepal Length across species\n",
    "import seaborn as sns\n",
    "\n",
    "sepal_Length = sns.boxplot(x= \"species\", y=\"sepal_length\", data=iris)                  \n",
    "plt.show()"
   ]
  },
  {
   "cell_type": "code",
   "execution_count": 13,
   "id": "1b07ac69",
   "metadata": {},
   "outputs": [
    {
     "data": {
      "image/png": "[encoded data removed]",
      "text/plain": [
       "<Figure size 432x288 with 1 Axes>"
      ]
     },
     "metadata": {
      "needs_background": "light"
     },
     "output_type": "display_data"
    }
   ],
   "source": [
    "# use seaborn to create box plot displaying distribution of Petal Length across species\n",
    "petal_Length = sns.boxplot(x= \"species\", y=\"petal_length\", data=iris)                  \n",
    "plt.show()"
   ]
  },
  {
   "cell_type": "code",
   "execution_count": 14,
   "id": "4c0c3e90",
   "metadata": {},
   "outputs": [
    {
     "data": {
      "image/png": "[encoded data removed]",
      "text/plain": [
       "<Figure size 432x288 with 1 Axes>"
      ]
     },
     "metadata": {
      "needs_background": "light"
     },
     "output_type": "display_data"
    }
   ],
   "source": [
    "# use seaborn to create box plot displaying distribution of sepal width across species\n",
    "sepal_Width = sns.boxplot(x= \"species\", y=\"sepal_width\", data=iris)                  \n",
    "plt.show()"
   ]
  },
  {
   "cell_type": "code",
   "execution_count": 15,
   "id": "570d9e34",
   "metadata": {
    "scrolled": true
   },
   "outputs": [
    {
     "data": {
      "image/png": "[encoded data removed]",
      "text/plain": [
       "<Figure size 432x288 with 1 Axes>"
      ]
     },
     "metadata": {
      "needs_background": "light"
     },
     "output_type": "display_data"
    }
   ],
   "source": [
    "# use seaborn to create box plot displaying distribution of petal width across species\n",
    "petal_Width = sns.boxplot(x= \"species\", y=\"petal_width\", data=iris)                  \n",
    "plt.show()"
   ]
  },
  {
   "cell_type": "markdown",
   "id": "c255f37e",
   "metadata": {},
   "source": [
    "#### *References:*\n",
    "https://pandas.pydata.org/docs/reference/api/pandas.DataFrame.boxplot.html\n",
    "\n",
    "https://www.kaggle.com/datasets/uciml/iris"
   ]
  },
  {
   "cell_type": "markdown",
   "id": "e50052cd",
   "metadata": {},
   "source": [
    "### Exercise 3"
   ]
  },
  {
   "cell_type": "markdown",
   "id": "9ae2cd7f",
   "metadata": {},
   "source": [
    "#### *Adapt the above code and plots so that the overall plot is inversely proportional and the individual groups are directly proportional.*"
   ]
  },
  {
   "cell_type": "code",
   "execution_count": 25,
   "id": "17ebcc4a",
   "metadata": {},
   "outputs": [],
   "source": [
    "# Create a series of x vectors.\n",
    "xs = np.array([np.linspace(i, i + 2.0, 20) for i in range(10)])"
   ]
  },
  {
   "cell_type": "code",
   "execution_count": 34,
   "id": "de162f5c",
   "metadata": {},
   "outputs": [],
   "source": [
    "# Create a corresponding series of y vectors.\n",
    "# ADAPT CODE TO CREATE INVERSELY PROPORTIONAL PLOT\n",
    "ys = np.array([1.0 * xs[i] - 2 * i for i in range(len(xs))])\n",
    "\n",
    "# Add some noise.\n",
    "ys = ys + np.random.normal(0.0, 1.0, ys.shape)"
   ]
  },
  {
   "cell_type": "code",
   "execution_count": 35,
   "id": "48beaa6e",
   "metadata": {},
   "outputs": [],
   "source": [
    "# Create global list of x and y values.\n",
    "x = xs.flatten()\n",
    "y = ys.flatten()"
   ]
  },
  {
   "cell_type": "code",
   "execution_count": 36,
   "id": "16fc6e31",
   "metadata": {},
   "outputs": [
    {
     "data": {
      "image/png": "[encoded data removed]",
      "text/plain": [
       "<Figure size 432x288 with 1 Axes>"
      ]
     },
     "metadata": {
      "needs_background": "light"
     },
     "output_type": "display_data"
    }
   ],
   "source": [
    "# Plot.\n",
    "plt.plot(x, y, '.');"
   ]
  },
  {
   "cell_type": "markdown",
   "id": "b8e7d07b",
   "metadata": {},
   "source": [
    "#### Best Fit Line"
   ]
  },
  {
   "cell_type": "code",
   "execution_count": 37,
   "id": "7545fde8",
   "metadata": {},
   "outputs": [],
   "source": [
    "# Best fit line slope and y intercept.\n",
    "m, c = np.polyfit(x, y, 1)"
   ]
  },
  {
   "cell_type": "code",
   "execution_count": 38,
   "id": "f5df8d27",
   "metadata": {},
   "outputs": [],
   "source": [
    "# Create a steadily increasing x range for plotting.\n",
    "xbestfit = np.linspace(x.min(), x.max(), 1000)\n",
    "# Create corresponding y values form best fit line.\n",
    "ybestfit = m * xbestfit + c"
   ]
  },
  {
   "cell_type": "code",
   "execution_count": 39,
   "id": "9e311c1b",
   "metadata": {},
   "outputs": [
    {
     "data": {
      "image/png": "[encoded data removed]",
      "text/plain": [
       "<Figure size 432x288 with 1 Axes>"
      ]
     },
     "metadata": {
      "needs_background": "light"
     },
     "output_type": "display_data"
    }
   ],
   "source": [
    "# Plot points.\n",
    "plt.plot(x, y, '.')\n",
    "\n",
    "# Plot line.\n",
    "plt.plot(xbestfit, ybestfit);"
   ]
  },
  {
   "cell_type": "markdown",
   "id": "cdb5a3e8",
   "metadata": {},
   "source": [
    "#### Colours"
   ]
  },
  {
   "cell_type": "code",
   "execution_count": 40,
   "id": "b434e743",
   "metadata": {},
   "outputs": [
    {
     "data": {
      "image/png": "[encoded data removed]",
      "text/plain": [
       "<Figure size 432x288 with 1 Axes>"
      ]
     },
     "metadata": {
      "needs_background": "light"
     },
     "output_type": "display_data"
    }
   ],
   "source": [
    "# Plot the same points, but now with a different colour for each range.\n",
    "for i in range(len(xs)):\n",
    "    plt.plot(xs[i], ys[i], '.')"
   ]
  },
  {
   "cell_type": "code",
   "execution_count": 41,
   "id": "d4985e9e",
   "metadata": {},
   "outputs": [
    {
     "data": {
      "image/png": "[encoded data removed]",
      "text/plain": [
       "<Figure size 432x288 with 1 Axes>"
      ]
     },
     "metadata": {
      "needs_background": "light"
     },
     "output_type": "display_data"
    }
   ],
   "source": [
    "# Same plot but with best fit lines for each category.\n",
    "for i in range(len(xs)):\n",
    "    # Plot this category.\n",
    "    plt.plot(xs[i], ys[i], '.')\n",
    "    # Fit line to category.\n",
    "    m, c = np.polyfit(xs[i], ys[i], 1)\n",
    "    # Create steadily increasing x range for plot.\n",
    "    xbestfit = np.linspace(xs[i].min(), xs[i].max(), 50)\n",
    "    # Corresponding y values based on best fit line.\n",
    "    ybestfit = m * xbestfit + c\n",
    "    # Plot best fit line for category.\n",
    "    plt.plot(xbestfit, ybestfit, color='lightgrey');"
   ]
  },
  {
   "cell_type": "markdown",
   "id": "996066d1",
   "metadata": {},
   "source": [
    "## End\n",
    "***"
   ]
  }
 ],
 "metadata": {
  "kernelspec": {
   "display_name": "Python 3 (ipykernel)",
   "language": "python",
   "name": "python3"
  },
  "language_info": {
   "codemirror_mode": {
    "name": "ipython",
    "version": 3
   },
   "file_extension": ".py",
   "mimetype": "text/x-python",
   "name": "python",
   "nbconvert_exporter": "python",
   "pygments_lexer": "ipython3",
   "version": "3.9.12"
  }
 },
 "nbformat": 4,
 "nbformat_minor": 5
}
