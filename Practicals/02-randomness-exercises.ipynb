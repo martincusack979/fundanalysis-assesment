{
 "cells": [
  {
   "cell_type": "markdown",
   "id": "c3c30c21",
   "metadata": {},
   "source": [
    "## Randomness"
   ]
  },
  {
   "cell_type": "code",
   "execution_count": 3,
   "id": "e763b457",
   "metadata": {},
   "outputs": [],
   "source": [
    "# For generating numbers.\n",
    "import numpy as np"
   ]
  },
  {
   "cell_type": "code",
   "execution_count": 4,
   "id": "25b8dd43",
   "metadata": {},
   "outputs": [
    {
     "data": {
      "text/plain": [
       "0"
      ]
     },
     "execution_count": 4,
     "metadata": {},
     "output_type": "execute_result"
    }
   ],
   "source": [
    "# Flip a coin\n",
    "np.random.binomial(1, 0.5)"
   ]
  },
  {
   "cell_type": "markdown",
   "id": "4e665be0",
   "metadata": {},
   "source": [
    "#### *Repeated Flips*"
   ]
  },
  {
   "cell_type": "code",
   "execution_count": 5,
   "id": "cd8ec492",
   "metadata": {},
   "outputs": [
    {
     "data": {
      "text/plain": [
       "array([1, 0, 0, 0, 1, 0, 1, 1, 0, 0, 1, 0, 1, 1, 1, 1, 1, 1, 0, 0, 0, 1,\n",
       "       1, 1, 0, 1, 1, 0, 0, 1, 1, 0, 1, 0, 1, 1, 0, 0, 1, 1, 0, 0, 0, 1,\n",
       "       1, 1, 1, 1, 0, 1, 0, 1, 1, 1, 1, 0, 1, 0, 1, 0, 0, 0, 1, 0, 1, 0,\n",
       "       0, 1, 1, 1, 1, 0, 0, 0, 1, 0, 1, 0, 1, 1, 0, 1, 1, 0, 1, 1, 0, 1,\n",
       "       0, 0, 0, 0, 1, 1, 1, 1, 1, 1, 1, 0])"
      ]
     },
     "execution_count": 5,
     "metadata": {},
     "output_type": "execute_result"
    }
   ],
   "source": [
    "# Flip a fair coin 100 times.\n",
    "np.random.binomial(1, 0.5, 100)"
   ]
  },
  {
   "cell_type": "code",
   "execution_count": 6,
   "id": "78ac7203",
   "metadata": {},
   "outputs": [
    {
     "data": {
      "text/plain": [
       "1267650600228229401496703205376"
      ]
     },
     "execution_count": 6,
     "metadata": {},
     "output_type": "execute_result"
    }
   ],
   "source": [
    "# number of possible outcomes\n",
    "2**100"
   ]
  },
  {
   "cell_type": "code",
   "execution_count": 6,
   "id": "94494adf",
   "metadata": {},
   "outputs": [
    {
     "data": {
      "text/plain": [
       "42"
      ]
     },
     "execution_count": 6,
     "metadata": {},
     "output_type": "execute_result"
    }
   ],
   "source": [
    "# Flip a coin 100 times, giving only the total number of heads.\n",
    "np.random.binomial(100, 0.5)"
   ]
  },
  {
   "cell_type": "markdown",
   "id": "a2186154",
   "metadata": {},
   "source": [
    "#### *Twice 50/50*"
   ]
  },
  {
   "cell_type": "code",
   "execution_count": 10,
   "id": "488d85f2",
   "metadata": {},
   "outputs": [
    {
     "name": "stdout",
     "output_type": "stream",
     "text": [
      "[1 0 0 1 1 0 1 0 0 1]\n",
      "[1 0 1 1 1 1 0 0 0 0]\n",
      "[1 1 1 1 0 0 0 0 0 1]\n",
      "Total generated: 13\n"
     ]
    }
   ],
   "source": [
    "# Keep flipping coins until we get three examples of getting five heads in ten coin tosses.\n",
    "\n",
    "# Number of examples\n",
    "\n",
    "N = 3\n",
    "\n",
    "# Keep track of number of arrays generated.\n",
    "total_no = 0\n",
    "\n",
    "# Keep trying until we get three examples.\n",
    "while N > 0:\n",
    "    # Add 1 to total.\n",
    "    total_no = total_no + 1\n",
    "    # Toss 10 coins.\n",
    "    tosses = np.random.binomial(1, 0.5, 10)\n",
    "    # Check if we got five heads.\n",
    "    if tosses.sum() == 5:\n",
    "        # If we got 5 heads, print the list of heads/tails.\n",
    "        print(tosses)\n",
    "        # Reduce the number of examples left to find by 1.\n",
    "        N = N - 1\n",
    "\n",
    "print(f'Total generated: {total_no}')"
   ]
  },
  {
   "cell_type": "markdown",
   "id": "7b3f861b",
   "metadata": {},
   "source": [
    "#### *Counting the combinations*"
   ]
  },
  {
   "cell_type": "code",
   "execution_count": 9,
   "id": "56b94d1e",
   "metadata": {},
   "outputs": [
    {
     "data": {
      "text/plain": [
       "252"
      ]
     },
     "execution_count": 9,
     "metadata": {},
     "output_type": "execute_result"
    }
   ],
   "source": [
    "# calculating the number of different possibilities for a result of five heads from ten coin tosses\n",
    "(10 * 9 * 8 * 7 * 6) // (5 * 4 * 3 * 2 * 1)"
   ]
  },
  {
   "cell_type": "code",
   "execution_count": 10,
   "id": "5e4ce88f",
   "metadata": {},
   "outputs": [
    {
     "name": "stdout",
     "output_type": "stream",
     "text": [
      "( 1, 2)\n",
      "( 1, 3)\n",
      "( 1, 4)\n",
      "( 1, 5)\n",
      "( 1, 6)\n",
      "( 1, 7)\n",
      "( 1, 8)\n",
      "( 1, 9)\n",
      "( 1,10)\n",
      "( 2, 1)\n",
      "( 2, 3)\n",
      "( 2, 4)\n",
      "( 2, 5)\n",
      "( 2, 6)\n",
      "( 2, 7)\n",
      "( 2, 8)\n",
      "( 2, 9)\n",
      "( 2,10)\n",
      "( 3, 1)\n",
      "( 3, 2)\n",
      "( 3, 4)\n",
      "( 3, 5)\n",
      "( 3, 6)\n",
      "( 3, 7)\n",
      "( 3, 8)\n",
      "( 3, 9)\n",
      "( 3,10)\n",
      "( 4, 1)\n",
      "( 4, 2)\n",
      "( 4, 3)\n",
      "( 4, 5)\n",
      "( 4, 6)\n",
      "( 4, 7)\n",
      "( 4, 8)\n",
      "( 4, 9)\n",
      "( 4,10)\n",
      "( 5, 1)\n",
      "( 5, 2)\n",
      "( 5, 3)\n",
      "( 5, 4)\n",
      "( 5, 6)\n",
      "( 5, 7)\n",
      "( 5, 8)\n",
      "( 5, 9)\n",
      "( 5,10)\n",
      "( 6, 1)\n",
      "( 6, 2)\n",
      "( 6, 3)\n",
      "( 6, 4)\n",
      "( 6, 5)\n",
      "( 6, 7)\n",
      "( 6, 8)\n",
      "( 6, 9)\n",
      "( 6,10)\n",
      "( 7, 1)\n",
      "( 7, 2)\n",
      "( 7, 3)\n",
      "( 7, 4)\n",
      "( 7, 5)\n",
      "( 7, 6)\n",
      "( 7, 8)\n",
      "( 7, 9)\n",
      "( 7,10)\n",
      "( 8, 1)\n",
      "( 8, 2)\n",
      "( 8, 3)\n",
      "( 8, 4)\n",
      "( 8, 5)\n",
      "( 8, 6)\n",
      "( 8, 7)\n",
      "( 8, 9)\n",
      "( 8,10)\n",
      "( 9, 1)\n",
      "( 9, 2)\n",
      "( 9, 3)\n",
      "( 9, 4)\n",
      "( 9, 5)\n",
      "( 9, 6)\n",
      "( 9, 7)\n",
      "( 9, 8)\n",
      "( 9,10)\n",
      "(10, 1)\n",
      "(10, 2)\n",
      "(10, 3)\n",
      "(10, 4)\n",
      "(10, 5)\n",
      "(10, 6)\n",
      "(10, 7)\n",
      "(10, 8)\n",
      "(10, 9)\n",
      "Total combinations is 90.\n"
     ]
    }
   ],
   "source": [
    "# Number of combinations.\n",
    "no_combs = 0\n",
    "\n",
    "# Select the first position.\n",
    "for first in [1, 2, 3, 4, 5, 6, 7, 8, 9, 10]:\n",
    "    # Select the position for the second position.\n",
    "    for second in [1, 2, 3, 4, 5, 6, 7, 8, 9, 10]:\n",
    "        # Make sure the first and second positions are different.\n",
    "        if not first == second:\n",
    "            # Print the combination.\n",
    "            print(f'({first:2},{second:2})')\n",
    "            # Add one to number of combinations.\n",
    "            no_combs = no_combs + 1\n",
    "\n",
    "# Print total number of combinations.\n",
    "print(f'Total combinations is {no_combs}.')\n"
   ]
  },
  {
   "cell_type": "markdown",
   "id": "2f074173",
   "metadata": {},
   "source": [
    "### Exercise 1\n",
    "*Do the results of the following calculations, related to the aforementioned coin-toss combinations, always come out as a positive whole number? What is the formula in general? Does it always come out as a positive whole number?*\n"
   ]
  },
  {
   "cell_type": "code",
   "execution_count": 1,
   "id": "5dee7168",
   "metadata": {},
   "outputs": [
    {
     "data": {
      "text/plain": [
       "252.0"
      ]
     },
     "execution_count": 1,
     "metadata": {},
     "output_type": "execute_result"
    }
   ],
   "source": [
    "# calculating the number of different ways of flipping ten coins and getting 5 heads\n",
    "(10 * 9 * 8 * 7 * 6) / (5 * 4 * 3 * 2 * 1)"
   ]
  },
  {
   "cell_type": "markdown",
   "id": "8632435d",
   "metadata": {},
   "source": [
    "Interestingly, there is no remainder when we perform the above fairly complex calculation."
   ]
  },
  {
   "cell_type": "code",
   "execution_count": 2,
   "id": "0426a5db",
   "metadata": {},
   "outputs": [
    {
     "data": {
      "text/plain": [
       "210.0"
      ]
     },
     "execution_count": 2,
     "metadata": {},
     "output_type": "execute_result"
    }
   ],
   "source": [
    "# calculating the number of different ways of flipping ten coins and getting 4 heads\n",
    "(10 * 9 * 8 * 7) / (4 * 3 * 2 * 1)"
   ]
  },
  {
   "cell_type": "markdown",
   "id": "9a3e1a09",
   "metadata": {},
   "source": [
    "Again, there is no remainder when we perform the above calculation."
   ]
  },
  {
   "cell_type": "code",
   "execution_count": 3,
   "id": "585f51da",
   "metadata": {},
   "outputs": [
    {
     "data": {
      "text/plain": [
       "120.0"
      ]
     },
     "execution_count": 3,
     "metadata": {},
     "output_type": "execute_result"
    }
   ],
   "source": [
    "# calculating the number of different ways of flipping ten coins and getting 3 heads\n",
    "(10 * 9 * 8) / (3 * 2 * 1)"
   ]
  },
  {
   "cell_type": "code",
   "execution_count": 1,
   "id": "9c551d71",
   "metadata": {},
   "outputs": [
    {
     "data": {
      "text/plain": [
       "45.0"
      ]
     },
     "execution_count": 1,
     "metadata": {},
     "output_type": "execute_result"
    }
   ],
   "source": [
    "# calculating the number of different ways of flipping ten coins and getting 2 heads\n",
    "(10 * 9) / (2)"
   ]
  },
  {
   "cell_type": "code",
   "execution_count": 5,
   "id": "35c5c896",
   "metadata": {},
   "outputs": [
    {
     "data": {
      "text/plain": [
       "10.0"
      ]
     },
     "execution_count": 5,
     "metadata": {},
     "output_type": "execute_result"
    }
   ],
   "source": [
    "# and finally, calculating the number of different ways of flipping ten coins and getting 1 head\n",
    "(10)/(1)"
   ]
  },
  {
   "cell_type": "markdown",
   "id": "531c033d",
   "metadata": {},
   "source": [
    "#### Conclusion: \n",
    "Each of the above calculations results in a positive whole number with no remainder.\n",
    "\n",
    "Adopting the \"placeholder\" framework, when you want to calculate the number of different ways of flipping ten coins and getting 1 head you have only 10 options; positions 1 to 10. However, when you want to perform a similar calculation for a result of 2 heads, you have 10 options for the first head and 9 options for the second head.  When we look at the resulting list of combinations we see that half of them are duplicates (e.g 2,1 and 1,2 are duplicates, 9,2 and 2,9 are duplicates etc). So to get the true figure of possible combinations we must divide the total combinations (90) by 2 in order to find the number of different ways of flipping ten coins and getting 2 heads. (Answer is 90 / 2 = 45)\n",
    "\n",
    "The formula is: total number of ways of getting two heads (10 * 9 = 90) / (divided by) number of possible outcomes (2 * 1 = 2)\n",
    "\n",
    "This is known as Coin Toss Probability Formula, and is more succinctly expressed as: Number of favorable outcomes / Total number of possible outcomes.\n",
    "\n",
    "Reference: https://www.geeksforgeeks.org/coin-toss-probability-formula/"
   ]
  },
  {
   "cell_type": "markdown",
   "id": "c83b8def",
   "metadata": {},
   "source": [
    "### Exercise 2"
   ]
  },
  {
   "cell_type": "markdown",
   "id": "e2ecfc43",
   "metadata": {},
   "source": [
    "*Note that there are the same number of ways to get 4 tails as there to get 4 heads. Explain why this is.*"
   ]
  },
  {
   "cell_type": "markdown",
   "id": "2675f0c5",
   "metadata": {},
   "source": [
    "If you toss a coin 10 times, the result of each toss can only produce one of two results (heads or tails). In other words there is a 50/50 chance of getting heads or tails.  As a result, the number of different combinations of getting 4 heads or 4 tails is exactly the same. The below calculation for determining the number of different ways of getting 4 heads holds true for both heads and tails."
   ]
  },
  {
   "cell_type": "code",
   "execution_count": 13,
   "id": "788db328",
   "metadata": {},
   "outputs": [
    {
     "data": {
      "text/plain": [
       "210.0"
      ]
     },
     "execution_count": 13,
     "metadata": {},
     "output_type": "execute_result"
    }
   ],
   "source": [
    "# calculating the number of different ways of flipping ten coins and getting 4 heads\n",
    "(10 * 9 * 8 * 7) / (4 * 3 * 2 * 1)"
   ]
  },
  {
   "cell_type": "markdown",
   "id": "1a6bd24c",
   "metadata": {},
   "source": [
    "Also, when you toss a coin ten times and get 4 heads, this means that you must also get 6 tails.\n",
    "The implications of this are that the probability of getting 4 heads is exactly equal to the probability of getting 6 heads."
   ]
  },
  {
   "cell_type": "code",
   "execution_count": 14,
   "id": "38e57dd8",
   "metadata": {},
   "outputs": [
    {
     "data": {
      "text/plain": [
       "210.0"
      ]
     },
     "execution_count": 14,
     "metadata": {},
     "output_type": "execute_result"
    }
   ],
   "source": [
    "# calculating the number of different ways of flipping ten coins and getting 6 heads\n",
    "(10 * 9 * 8 * 7 * 6 * 5) / (6 * 5 * 4 * 3 * 2 * 1)"
   ]
  },
  {
   "cell_type": "markdown",
   "id": "2b919c30",
   "metadata": {},
   "source": [
    "### What numpy does"
   ]
  },
  {
   "cell_type": "code",
   "execution_count": 15,
   "id": "51600580",
   "metadata": {},
   "outputs": [
    {
     "data": {
      "text/plain": [
       "0.0009765625"
      ]
     },
     "execution_count": 15,
     "metadata": {},
     "output_type": "execute_result"
    }
   ],
   "source": [
    "# The probability a given possibility is selected\n",
    "1.0 / 1024.0"
   ]
  },
  {
   "cell_type": "code",
   "execution_count": 16,
   "id": "99e13b02",
   "metadata": {},
   "outputs": [
    {
     "data": {
      "text/plain": [
       "0.24609375"
      ]
     },
     "execution_count": 16,
     "metadata": {},
     "output_type": "execute_result"
    }
   ],
   "source": [
    "# Probability of getting five heads when flipping a coin ten times.\n",
    "252 / 1024"
   ]
  },
  {
   "cell_type": "code",
   "execution_count": 17,
   "id": "7a505469",
   "metadata": {},
   "outputs": [
    {
     "data": {
      "text/plain": [
       "0.0009765625"
      ]
     },
     "execution_count": 17,
     "metadata": {},
     "output_type": "execute_result"
    }
   ],
   "source": [
    "# Probability of getting zero heads when flipping a coin ten times.\n",
    "1 / 1024"
   ]
  },
  {
   "cell_type": "code",
   "execution_count": 18,
   "id": "e282759e",
   "metadata": {},
   "outputs": [
    {
     "data": {
      "text/plain": [
       "252"
      ]
     },
     "execution_count": 18,
     "metadata": {},
     "output_type": "execute_result"
    }
   ],
   "source": [
    "import math\n",
    "\n",
    "math.comb(10, 5)"
   ]
  },
  {
   "cell_type": "markdown",
   "id": "2a8da987",
   "metadata": {},
   "source": [
    "Let's use this to plot the probabilities of getting heads for each of the numbers 0 to 10."
   ]
  },
  {
   "cell_type": "code",
   "execution_count": 20,
   "id": "3b5d89aa",
   "metadata": {},
   "outputs": [
    {
     "data": {
      "image/png": "[encoded data removed]",
      "text/plain": [
       "<Figure size 432x288 with 1 Axes>"
      ]
     },
     "metadata": {
      "needs_background": "light"
     },
     "output_type": "display_data"
    }
   ],
   "source": [
    "import matplotlib.pyplot as plt\n",
    "\n",
    "# The number of coins we will flip.\n",
    "coins = 10\n",
    "\n",
    "# The number from 0 to 10 inclusive.\n",
    "x = list(range(coins + 1))\n",
    "\n",
    "# The number of ways of selecting i things from 10. \n",
    "y = [math.comb(coins, i) for i in x]\n",
    "\n",
    "# Display x and y as a bar chart.\n",
    "plt.bar(x, y);"
   ]
  },
  {
   "cell_type": "markdown",
   "id": "b4a9d626",
   "metadata": {},
   "source": [
    "### Testing numpy"
   ]
  },
  {
   "cell_type": "code",
   "execution_count": 21,
   "id": "fa99868f",
   "metadata": {},
   "outputs": [
    {
     "data": {
      "image/png": "[encoded data removed]",
      "text/plain": [
       "<Figure size 432x288 with 1 Axes>"
      ]
     },
     "metadata": {
      "needs_background": "light"
     },
     "output_type": "display_data"
    }
   ],
   "source": [
    "# The number of coins we are to flip.\n",
    "coins = 10\n",
    "\n",
    "# Number of trials to run.\n",
    "trials = 10000\n",
    "\n",
    "# Run the trials.\n",
    "heads = np.random.binomial(coins, 0.5, trials)\n",
    "\n",
    "# Count the unique values in the returned list.\n",
    "vals, counts = np.unique(heads, return_counts=True)\n",
    "\n",
    "# Plot results in a histogram.\n",
    "plt.bar(vals, counts);\n"
   ]
  },
  {
   "cell_type": "markdown",
   "id": "c0f85498",
   "metadata": {},
   "source": [
    "### Distributions"
   ]
  },
  {
   "cell_type": "markdown",
   "id": "e855840a",
   "metadata": {},
   "source": [
    "#### *Uniform distribution*"
   ]
  },
  {
   "cell_type": "code",
   "execution_count": 22,
   "id": "1c42f7a8",
   "metadata": {},
   "outputs": [
    {
     "data": {
      "image/png": "[encoded data removed]",
      "text/plain": [
       "<Figure size 432x288 with 1 Axes>"
      ]
     },
     "metadata": {
      "needs_background": "light"
     },
     "output_type": "display_data"
    }
   ],
   "source": [
    "# The number of coins we are to flip.\n",
    "coins = 1\n",
    "\n",
    "# Number of trials to run.\n",
    "trials = 10000\n",
    "\n",
    "# Run the trials.\n",
    "heads = np.random.binomial(coins, 0.5, trials)\n",
    "\n",
    "# Count the unique values in the returned list.\n",
    "vals, counts = np.unique(heads, return_counts=True)\n",
    "\n",
    "# Plot results in a histogram.\n",
    "plt.bar(vals, counts);"
   ]
  }
 ],
 "metadata": {
  "kernelspec": {
   "display_name": "Python 3 (ipykernel)",
   "language": "python",
   "name": "python3"
  },
  "language_info": {
   "codemirror_mode": {
    "name": "ipython",
    "version": 3
   },
   "file_extension": ".py",
   "mimetype": "text/x-python",
   "name": "python",
   "nbconvert_exporter": "python",
   "pygments_lexer": "ipython3",
   "version": "3.9.12"
  }
 },
 "nbformat": 4,
 "nbformat_minor": 5
}
