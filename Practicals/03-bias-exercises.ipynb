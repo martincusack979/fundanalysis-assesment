{
 "cells": [
  {
   "cell_type": "markdown",
   "id": "6a4e20a6",
   "metadata": {},
   "source": [
    "## Exercise 1\n",
    "\n",
    "### Give three real-world examples of cognitive bias"
   ]
  },
  {
   "cell_type": "markdown",
   "id": "09d7cb17",
   "metadata": {},
   "source": [
    "* Confirmation bias: focusing excessively on information that reinforces your existing beliefs e.g a person with conservative political beliefs only taking in news/information from Fox News or other right-wing sources, to the exclusion of any alternative source.\n",
    "\n",
    "* Stereotyping: "
   ]
  },
  {
   "cell_type": "code",
   "execution_count": null,
   "id": "89de0609",
   "metadata": {},
   "outputs": [],
   "source": []
  },
  {
   "cell_type": "markdown",
   "id": "5b320df0",
   "metadata": {},
   "source": [
    "## Exercise 2"
   ]
  },
  {
   "cell_type": "code",
   "execution_count": null,
   "id": "92f005c5",
   "metadata": {},
   "outputs": [],
   "source": []
  },
  {
   "cell_type": "code",
   "execution_count": null,
   "id": "62f2b88a",
   "metadata": {},
   "outputs": [],
   "source": []
  },
  {
   "cell_type": "markdown",
   "id": "33e4c461",
   "metadata": {},
   "source": [
    "## Exercise 3"
   ]
  }
 ],
 "metadata": {
  "kernelspec": {
   "display_name": "Python 3 (ipykernel)",
   "language": "python",
   "name": "python3"
  },
  "language_info": {
   "codemirror_mode": {
    "name": "ipython",
    "version": 3
   },
   "file_extension": ".py",
   "mimetype": "text/x-python",
   "name": "python",
   "nbconvert_exporter": "python",
   "pygments_lexer": "ipython3",
   "version": "3.9.12"
  }
 },
 "nbformat": 4,
 "nbformat_minor": 5
}
