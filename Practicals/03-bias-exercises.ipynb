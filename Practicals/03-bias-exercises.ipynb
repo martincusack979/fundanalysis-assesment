{
 "cells": [
  {
   "cell_type": "markdown",
   "id": "6a4e20a6",
   "metadata": {},
   "source": [
    "## Exercise 1\n",
    "\n",
    "### Give three real-world examples of cognitive bias"
   ]
  },
  {
   "cell_type": "markdown",
   "id": "09d7cb17",
   "metadata": {},
   "source": [
    "* Confirmation bias: focusing excessively on information that reinforces your existing beliefs e.g a person with conservative political beliefs becoming overly reliant on news/information from Fox News or other right-wing sources, to the exclusion of any alternative source, will end up with a distorted picture of the political landscape which validates their existing prejudices.\n",
    "\n",
    "\n",
    "* Hyperbolic discounting: \"our inclination to choose immediate rewards over rewards that come later in the future, even when these immediate rewards are smaller.\" An example of this: we are all increasingly aware of the environmental cost of air travel, yet we continue to fly because it suits us in the short-term and we do not have an immediate sense of the damage which harmful emissions are causing to the environment in the long-term.\n",
    "\n",
    "\n",
    "* Bandwagon effect: \"Uptick of beliefs and ideas increases the more that they have already been adopted by others.\"  An example of this would be the recent surge in investments in cryptocurrency and NFTs. Despite the relative lack of knowledge of such a new and untested phenomenon and the extremely high risk involved, many jumped at the chance to invest in crypto and NFT purely because other (often high-profile) people had shown an interest in same.\n",
    "\n",
    "\n",
    "    Reference: https://www.visualcapitalist.com/18-cognitive-bias-examples-mental-mistakes/"
   ]
  },
  {
   "cell_type": "markdown",
   "id": "5b320df0",
   "metadata": {},
   "source": [
    "## Exercise 2"
   ]
  },
  {
   "cell_type": "code",
   "execution_count": null,
   "id": "92f005c5",
   "metadata": {},
   "outputs": [],
   "source": []
  },
  {
   "cell_type": "code",
   "execution_count": null,
   "id": "62f2b88a",
   "metadata": {},
   "outputs": [],
   "source": []
  },
  {
   "cell_type": "markdown",
   "id": "33e4c461",
   "metadata": {},
   "source": [
    "## Exercise 3"
   ]
  }
 ],
 "metadata": {
  "kernelspec": {
   "display_name": "Python 3 (ipykernel)",
   "language": "python",
   "name": "python3"
  },
  "language_info": {
   "codemirror_mode": {
    "name": "ipython",
    "version": 3
   },
   "file_extension": ".py",
   "mimetype": "text/x-python",
   "name": "python",
   "nbconvert_exporter": "python",
   "pygments_lexer": "ipython3",
   "version": "3.9.12"
  }
 },
 "nbformat": 4,
 "nbformat_minor": 5
}
